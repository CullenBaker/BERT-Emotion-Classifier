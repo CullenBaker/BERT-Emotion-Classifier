{
  "nbformat": 4,
  "nbformat_minor": 0,
  "metadata": {
    "colab": {
      "name": "BERTemotions.ipynb",
      "provenance": [],
      "collapsed_sections": []
    },
    "kernelspec": {
      "name": "python3",
      "display_name": "Python 3"
    },
    "widgets": {
      "application/vnd.jupyter.widget-state+json": {
        "da5d8b5541b642108fa52556a0f1f866": {
          "model_module": "@jupyter-widgets/controls",
          "model_name": "HBoxModel",
          "state": {
            "_view_name": "HBoxView",
            "_dom_classes": [],
            "_model_name": "HBoxModel",
            "_view_module": "@jupyter-widgets/controls",
            "_model_module_version": "1.5.0",
            "_view_count": null,
            "_view_module_version": "1.5.0",
            "box_style": "",
            "layout": "IPY_MODEL_41f8dcb2399d4134aeaf58ce12592a98",
            "_model_module": "@jupyter-widgets/controls",
            "children": [
              "IPY_MODEL_e8381063ad4a46a6b1db033fe1134de4",
              "IPY_MODEL_74fb10f6c2db4c9a835c46d0bde1c168"
            ]
          }
        },
        "41f8dcb2399d4134aeaf58ce12592a98": {
          "model_module": "@jupyter-widgets/base",
          "model_name": "LayoutModel",
          "state": {
            "_view_name": "LayoutView",
            "grid_template_rows": null,
            "right": null,
            "justify_content": null,
            "_view_module": "@jupyter-widgets/base",
            "overflow": null,
            "_model_module_version": "1.2.0",
            "_view_count": null,
            "flex_flow": null,
            "width": null,
            "min_width": null,
            "border": null,
            "align_items": null,
            "bottom": null,
            "_model_module": "@jupyter-widgets/base",
            "top": null,
            "grid_column": null,
            "overflow_y": null,
            "overflow_x": null,
            "grid_auto_flow": null,
            "grid_area": null,
            "grid_template_columns": null,
            "flex": null,
            "_model_name": "LayoutModel",
            "justify_items": null,
            "grid_row": null,
            "max_height": null,
            "align_content": null,
            "visibility": null,
            "align_self": null,
            "height": null,
            "min_height": null,
            "padding": null,
            "grid_auto_rows": null,
            "grid_gap": null,
            "max_width": null,
            "order": null,
            "_view_module_version": "1.2.0",
            "grid_template_areas": null,
            "object_position": null,
            "object_fit": null,
            "grid_auto_columns": null,
            "margin": null,
            "display": null,
            "left": null
          }
        },
        "e8381063ad4a46a6b1db033fe1134de4": {
          "model_module": "@jupyter-widgets/controls",
          "model_name": "FloatProgressModel",
          "state": {
            "_view_name": "ProgressView",
            "style": "IPY_MODEL_38b7c0bdadd0416f97e4ce89c0593c6a",
            "_dom_classes": [],
            "description": "Downloading: 100%",
            "_model_name": "FloatProgressModel",
            "bar_style": "success",
            "max": 231508,
            "_view_module": "@jupyter-widgets/controls",
            "_model_module_version": "1.5.0",
            "value": 231508,
            "_view_count": null,
            "_view_module_version": "1.5.0",
            "orientation": "horizontal",
            "min": 0,
            "description_tooltip": null,
            "_model_module": "@jupyter-widgets/controls",
            "layout": "IPY_MODEL_c7b16d4220c34311ab69fa7a9e07bf7b"
          }
        },
        "74fb10f6c2db4c9a835c46d0bde1c168": {
          "model_module": "@jupyter-widgets/controls",
          "model_name": "HTMLModel",
          "state": {
            "_view_name": "HTMLView",
            "style": "IPY_MODEL_b220c018bda649d8a557596f08ee19ff",
            "_dom_classes": [],
            "description": "",
            "_model_name": "HTMLModel",
            "placeholder": "​",
            "_view_module": "@jupyter-widgets/controls",
            "_model_module_version": "1.5.0",
            "value": " 232k/232k [00:00&lt;00:00, 2.96MB/s]",
            "_view_count": null,
            "_view_module_version": "1.5.0",
            "description_tooltip": null,
            "_model_module": "@jupyter-widgets/controls",
            "layout": "IPY_MODEL_79df7225035d421c86dc05b044644902"
          }
        },
        "38b7c0bdadd0416f97e4ce89c0593c6a": {
          "model_module": "@jupyter-widgets/controls",
          "model_name": "ProgressStyleModel",
          "state": {
            "_view_name": "StyleView",
            "_model_name": "ProgressStyleModel",
            "description_width": "initial",
            "_view_module": "@jupyter-widgets/base",
            "_model_module_version": "1.5.0",
            "_view_count": null,
            "_view_module_version": "1.2.0",
            "bar_color": null,
            "_model_module": "@jupyter-widgets/controls"
          }
        },
        "c7b16d4220c34311ab69fa7a9e07bf7b": {
          "model_module": "@jupyter-widgets/base",
          "model_name": "LayoutModel",
          "state": {
            "_view_name": "LayoutView",
            "grid_template_rows": null,
            "right": null,
            "justify_content": null,
            "_view_module": "@jupyter-widgets/base",
            "overflow": null,
            "_model_module_version": "1.2.0",
            "_view_count": null,
            "flex_flow": null,
            "width": null,
            "min_width": null,
            "border": null,
            "align_items": null,
            "bottom": null,
            "_model_module": "@jupyter-widgets/base",
            "top": null,
            "grid_column": null,
            "overflow_y": null,
            "overflow_x": null,
            "grid_auto_flow": null,
            "grid_area": null,
            "grid_template_columns": null,
            "flex": null,
            "_model_name": "LayoutModel",
            "justify_items": null,
            "grid_row": null,
            "max_height": null,
            "align_content": null,
            "visibility": null,
            "align_self": null,
            "height": null,
            "min_height": null,
            "padding": null,
            "grid_auto_rows": null,
            "grid_gap": null,
            "max_width": null,
            "order": null,
            "_view_module_version": "1.2.0",
            "grid_template_areas": null,
            "object_position": null,
            "object_fit": null,
            "grid_auto_columns": null,
            "margin": null,
            "display": null,
            "left": null
          }
        },
        "b220c018bda649d8a557596f08ee19ff": {
          "model_module": "@jupyter-widgets/controls",
          "model_name": "DescriptionStyleModel",
          "state": {
            "_view_name": "StyleView",
            "_model_name": "DescriptionStyleModel",
            "description_width": "",
            "_view_module": "@jupyter-widgets/base",
            "_model_module_version": "1.5.0",
            "_view_count": null,
            "_view_module_version": "1.2.0",
            "_model_module": "@jupyter-widgets/controls"
          }
        },
        "79df7225035d421c86dc05b044644902": {
          "model_module": "@jupyter-widgets/base",
          "model_name": "LayoutModel",
          "state": {
            "_view_name": "LayoutView",
            "grid_template_rows": null,
            "right": null,
            "justify_content": null,
            "_view_module": "@jupyter-widgets/base",
            "overflow": null,
            "_model_module_version": "1.2.0",
            "_view_count": null,
            "flex_flow": null,
            "width": null,
            "min_width": null,
            "border": null,
            "align_items": null,
            "bottom": null,
            "_model_module": "@jupyter-widgets/base",
            "top": null,
            "grid_column": null,
            "overflow_y": null,
            "overflow_x": null,
            "grid_auto_flow": null,
            "grid_area": null,
            "grid_template_columns": null,
            "flex": null,
            "_model_name": "LayoutModel",
            "justify_items": null,
            "grid_row": null,
            "max_height": null,
            "align_content": null,
            "visibility": null,
            "align_self": null,
            "height": null,
            "min_height": null,
            "padding": null,
            "grid_auto_rows": null,
            "grid_gap": null,
            "max_width": null,
            "order": null,
            "_view_module_version": "1.2.0",
            "grid_template_areas": null,
            "object_position": null,
            "object_fit": null,
            "grid_auto_columns": null,
            "margin": null,
            "display": null,
            "left": null
          }
        },
        "a3874e1dfd38447f921da87dd7544212": {
          "model_module": "@jupyter-widgets/controls",
          "model_name": "HBoxModel",
          "state": {
            "_view_name": "HBoxView",
            "_dom_classes": [],
            "_model_name": "HBoxModel",
            "_view_module": "@jupyter-widgets/controls",
            "_model_module_version": "1.5.0",
            "_view_count": null,
            "_view_module_version": "1.5.0",
            "box_style": "",
            "layout": "IPY_MODEL_3e0457d6b44641369daefd896be772a2",
            "_model_module": "@jupyter-widgets/controls",
            "children": [
              "IPY_MODEL_74526e09c75f4b9e8060cea1ecce20f2",
              "IPY_MODEL_642ec7d372504e65aaee6ac20225e15b"
            ]
          }
        },
        "3e0457d6b44641369daefd896be772a2": {
          "model_module": "@jupyter-widgets/base",
          "model_name": "LayoutModel",
          "state": {
            "_view_name": "LayoutView",
            "grid_template_rows": null,
            "right": null,
            "justify_content": null,
            "_view_module": "@jupyter-widgets/base",
            "overflow": null,
            "_model_module_version": "1.2.0",
            "_view_count": null,
            "flex_flow": null,
            "width": null,
            "min_width": null,
            "border": null,
            "align_items": null,
            "bottom": null,
            "_model_module": "@jupyter-widgets/base",
            "top": null,
            "grid_column": null,
            "overflow_y": null,
            "overflow_x": null,
            "grid_auto_flow": null,
            "grid_area": null,
            "grid_template_columns": null,
            "flex": null,
            "_model_name": "LayoutModel",
            "justify_items": null,
            "grid_row": null,
            "max_height": null,
            "align_content": null,
            "visibility": null,
            "align_self": null,
            "height": null,
            "min_height": null,
            "padding": null,
            "grid_auto_rows": null,
            "grid_gap": null,
            "max_width": null,
            "order": null,
            "_view_module_version": "1.2.0",
            "grid_template_areas": null,
            "object_position": null,
            "object_fit": null,
            "grid_auto_columns": null,
            "margin": null,
            "display": null,
            "left": null
          }
        },
        "74526e09c75f4b9e8060cea1ecce20f2": {
          "model_module": "@jupyter-widgets/controls",
          "model_name": "FloatProgressModel",
          "state": {
            "_view_name": "ProgressView",
            "style": "IPY_MODEL_a171ea61933f48df805e0f69dcf3c382",
            "_dom_classes": [],
            "description": "Downloading: 100%",
            "_model_name": "FloatProgressModel",
            "bar_style": "success",
            "max": 433,
            "_view_module": "@jupyter-widgets/controls",
            "_model_module_version": "1.5.0",
            "value": 433,
            "_view_count": null,
            "_view_module_version": "1.5.0",
            "orientation": "horizontal",
            "min": 0,
            "description_tooltip": null,
            "_model_module": "@jupyter-widgets/controls",
            "layout": "IPY_MODEL_fab07787925d4df6b5d04227081697d9"
          }
        },
        "642ec7d372504e65aaee6ac20225e15b": {
          "model_module": "@jupyter-widgets/controls",
          "model_name": "HTMLModel",
          "state": {
            "_view_name": "HTMLView",
            "style": "IPY_MODEL_6b6e3a5bc32f406995057ca76d119f91",
            "_dom_classes": [],
            "description": "",
            "_model_name": "HTMLModel",
            "placeholder": "​",
            "_view_module": "@jupyter-widgets/controls",
            "_model_module_version": "1.5.0",
            "value": " 433/433 [00:00&lt;00:00, 3.46kB/s]",
            "_view_count": null,
            "_view_module_version": "1.5.0",
            "description_tooltip": null,
            "_model_module": "@jupyter-widgets/controls",
            "layout": "IPY_MODEL_5ec0b026dc52473c8fab4ee1468bafb9"
          }
        },
        "a171ea61933f48df805e0f69dcf3c382": {
          "model_module": "@jupyter-widgets/controls",
          "model_name": "ProgressStyleModel",
          "state": {
            "_view_name": "StyleView",
            "_model_name": "ProgressStyleModel",
            "description_width": "initial",
            "_view_module": "@jupyter-widgets/base",
            "_model_module_version": "1.5.0",
            "_view_count": null,
            "_view_module_version": "1.2.0",
            "bar_color": null,
            "_model_module": "@jupyter-widgets/controls"
          }
        },
        "fab07787925d4df6b5d04227081697d9": {
          "model_module": "@jupyter-widgets/base",
          "model_name": "LayoutModel",
          "state": {
            "_view_name": "LayoutView",
            "grid_template_rows": null,
            "right": null,
            "justify_content": null,
            "_view_module": "@jupyter-widgets/base",
            "overflow": null,
            "_model_module_version": "1.2.0",
            "_view_count": null,
            "flex_flow": null,
            "width": null,
            "min_width": null,
            "border": null,
            "align_items": null,
            "bottom": null,
            "_model_module": "@jupyter-widgets/base",
            "top": null,
            "grid_column": null,
            "overflow_y": null,
            "overflow_x": null,
            "grid_auto_flow": null,
            "grid_area": null,
            "grid_template_columns": null,
            "flex": null,
            "_model_name": "LayoutModel",
            "justify_items": null,
            "grid_row": null,
            "max_height": null,
            "align_content": null,
            "visibility": null,
            "align_self": null,
            "height": null,
            "min_height": null,
            "padding": null,
            "grid_auto_rows": null,
            "grid_gap": null,
            "max_width": null,
            "order": null,
            "_view_module_version": "1.2.0",
            "grid_template_areas": null,
            "object_position": null,
            "object_fit": null,
            "grid_auto_columns": null,
            "margin": null,
            "display": null,
            "left": null
          }
        },
        "6b6e3a5bc32f406995057ca76d119f91": {
          "model_module": "@jupyter-widgets/controls",
          "model_name": "DescriptionStyleModel",
          "state": {
            "_view_name": "StyleView",
            "_model_name": "DescriptionStyleModel",
            "description_width": "",
            "_view_module": "@jupyter-widgets/base",
            "_model_module_version": "1.5.0",
            "_view_count": null,
            "_view_module_version": "1.2.0",
            "_model_module": "@jupyter-widgets/controls"
          }
        },
        "5ec0b026dc52473c8fab4ee1468bafb9": {
          "model_module": "@jupyter-widgets/base",
          "model_name": "LayoutModel",
          "state": {
            "_view_name": "LayoutView",
            "grid_template_rows": null,
            "right": null,
            "justify_content": null,
            "_view_module": "@jupyter-widgets/base",
            "overflow": null,
            "_model_module_version": "1.2.0",
            "_view_count": null,
            "flex_flow": null,
            "width": null,
            "min_width": null,
            "border": null,
            "align_items": null,
            "bottom": null,
            "_model_module": "@jupyter-widgets/base",
            "top": null,
            "grid_column": null,
            "overflow_y": null,
            "overflow_x": null,
            "grid_auto_flow": null,
            "grid_area": null,
            "grid_template_columns": null,
            "flex": null,
            "_model_name": "LayoutModel",
            "justify_items": null,
            "grid_row": null,
            "max_height": null,
            "align_content": null,
            "visibility": null,
            "align_self": null,
            "height": null,
            "min_height": null,
            "padding": null,
            "grid_auto_rows": null,
            "grid_gap": null,
            "max_width": null,
            "order": null,
            "_view_module_version": "1.2.0",
            "grid_template_areas": null,
            "object_position": null,
            "object_fit": null,
            "grid_auto_columns": null,
            "margin": null,
            "display": null,
            "left": null
          }
        },
        "477c7cf292a648dba19dc85ebe242054": {
          "model_module": "@jupyter-widgets/controls",
          "model_name": "HBoxModel",
          "state": {
            "_view_name": "HBoxView",
            "_dom_classes": [],
            "_model_name": "HBoxModel",
            "_view_module": "@jupyter-widgets/controls",
            "_model_module_version": "1.5.0",
            "_view_count": null,
            "_view_module_version": "1.5.0",
            "box_style": "",
            "layout": "IPY_MODEL_eb87d9178029463782648e24919292d2",
            "_model_module": "@jupyter-widgets/controls",
            "children": [
              "IPY_MODEL_da7081026b704735b7906eeeaec0ed41",
              "IPY_MODEL_f8b75546f87749d79bd7f44dd3803b92"
            ]
          }
        },
        "eb87d9178029463782648e24919292d2": {
          "model_module": "@jupyter-widgets/base",
          "model_name": "LayoutModel",
          "state": {
            "_view_name": "LayoutView",
            "grid_template_rows": null,
            "right": null,
            "justify_content": null,
            "_view_module": "@jupyter-widgets/base",
            "overflow": null,
            "_model_module_version": "1.2.0",
            "_view_count": null,
            "flex_flow": null,
            "width": null,
            "min_width": null,
            "border": null,
            "align_items": null,
            "bottom": null,
            "_model_module": "@jupyter-widgets/base",
            "top": null,
            "grid_column": null,
            "overflow_y": null,
            "overflow_x": null,
            "grid_auto_flow": null,
            "grid_area": null,
            "grid_template_columns": null,
            "flex": null,
            "_model_name": "LayoutModel",
            "justify_items": null,
            "grid_row": null,
            "max_height": null,
            "align_content": null,
            "visibility": null,
            "align_self": null,
            "height": null,
            "min_height": null,
            "padding": null,
            "grid_auto_rows": null,
            "grid_gap": null,
            "max_width": null,
            "order": null,
            "_view_module_version": "1.2.0",
            "grid_template_areas": null,
            "object_position": null,
            "object_fit": null,
            "grid_auto_columns": null,
            "margin": null,
            "display": null,
            "left": null
          }
        },
        "da7081026b704735b7906eeeaec0ed41": {
          "model_module": "@jupyter-widgets/controls",
          "model_name": "FloatProgressModel",
          "state": {
            "_view_name": "ProgressView",
            "style": "IPY_MODEL_13fd8c1b14a64ef888a9d5c865ad291f",
            "_dom_classes": [],
            "description": "Downloading: 100%",
            "_model_name": "FloatProgressModel",
            "bar_style": "success",
            "max": 536063208,
            "_view_module": "@jupyter-widgets/controls",
            "_model_module_version": "1.5.0",
            "value": 536063208,
            "_view_count": null,
            "_view_module_version": "1.5.0",
            "orientation": "horizontal",
            "min": 0,
            "description_tooltip": null,
            "_model_module": "@jupyter-widgets/controls",
            "layout": "IPY_MODEL_17da216fd42745bead8252d8f5621a46"
          }
        },
        "f8b75546f87749d79bd7f44dd3803b92": {
          "model_module": "@jupyter-widgets/controls",
          "model_name": "HTMLModel",
          "state": {
            "_view_name": "HTMLView",
            "style": "IPY_MODEL_a6b37fcc0e524d199681e3ee37f1316b",
            "_dom_classes": [],
            "description": "",
            "_model_name": "HTMLModel",
            "placeholder": "​",
            "_view_module": "@jupyter-widgets/controls",
            "_model_module_version": "1.5.0",
            "value": " 536M/536M [00:12&lt;00:00, 41.7MB/s]",
            "_view_count": null,
            "_view_module_version": "1.5.0",
            "description_tooltip": null,
            "_model_module": "@jupyter-widgets/controls",
            "layout": "IPY_MODEL_936cc836af1c4db0b0039af4cbbf8345"
          }
        },
        "13fd8c1b14a64ef888a9d5c865ad291f": {
          "model_module": "@jupyter-widgets/controls",
          "model_name": "ProgressStyleModel",
          "state": {
            "_view_name": "StyleView",
            "_model_name": "ProgressStyleModel",
            "description_width": "initial",
            "_view_module": "@jupyter-widgets/base",
            "_model_module_version": "1.5.0",
            "_view_count": null,
            "_view_module_version": "1.2.0",
            "bar_color": null,
            "_model_module": "@jupyter-widgets/controls"
          }
        },
        "17da216fd42745bead8252d8f5621a46": {
          "model_module": "@jupyter-widgets/base",
          "model_name": "LayoutModel",
          "state": {
            "_view_name": "LayoutView",
            "grid_template_rows": null,
            "right": null,
            "justify_content": null,
            "_view_module": "@jupyter-widgets/base",
            "overflow": null,
            "_model_module_version": "1.2.0",
            "_view_count": null,
            "flex_flow": null,
            "width": null,
            "min_width": null,
            "border": null,
            "align_items": null,
            "bottom": null,
            "_model_module": "@jupyter-widgets/base",
            "top": null,
            "grid_column": null,
            "overflow_y": null,
            "overflow_x": null,
            "grid_auto_flow": null,
            "grid_area": null,
            "grid_template_columns": null,
            "flex": null,
            "_model_name": "LayoutModel",
            "justify_items": null,
            "grid_row": null,
            "max_height": null,
            "align_content": null,
            "visibility": null,
            "align_self": null,
            "height": null,
            "min_height": null,
            "padding": null,
            "grid_auto_rows": null,
            "grid_gap": null,
            "max_width": null,
            "order": null,
            "_view_module_version": "1.2.0",
            "grid_template_areas": null,
            "object_position": null,
            "object_fit": null,
            "grid_auto_columns": null,
            "margin": null,
            "display": null,
            "left": null
          }
        },
        "a6b37fcc0e524d199681e3ee37f1316b": {
          "model_module": "@jupyter-widgets/controls",
          "model_name": "DescriptionStyleModel",
          "state": {
            "_view_name": "StyleView",
            "_model_name": "DescriptionStyleModel",
            "description_width": "",
            "_view_module": "@jupyter-widgets/base",
            "_model_module_version": "1.5.0",
            "_view_count": null,
            "_view_module_version": "1.2.0",
            "_model_module": "@jupyter-widgets/controls"
          }
        },
        "936cc836af1c4db0b0039af4cbbf8345": {
          "model_module": "@jupyter-widgets/base",
          "model_name": "LayoutModel",
          "state": {
            "_view_name": "LayoutView",
            "grid_template_rows": null,
            "right": null,
            "justify_content": null,
            "_view_module": "@jupyter-widgets/base",
            "overflow": null,
            "_model_module_version": "1.2.0",
            "_view_count": null,
            "flex_flow": null,
            "width": null,
            "min_width": null,
            "border": null,
            "align_items": null,
            "bottom": null,
            "_model_module": "@jupyter-widgets/base",
            "top": null,
            "grid_column": null,
            "overflow_y": null,
            "overflow_x": null,
            "grid_auto_flow": null,
            "grid_area": null,
            "grid_template_columns": null,
            "flex": null,
            "_model_name": "LayoutModel",
            "justify_items": null,
            "grid_row": null,
            "max_height": null,
            "align_content": null,
            "visibility": null,
            "align_self": null,
            "height": null,
            "min_height": null,
            "padding": null,
            "grid_auto_rows": null,
            "grid_gap": null,
            "max_width": null,
            "order": null,
            "_view_module_version": "1.2.0",
            "grid_template_areas": null,
            "object_position": null,
            "object_fit": null,
            "grid_auto_columns": null,
            "margin": null,
            "display": null,
            "left": null
          }
        }
      }
    },
    "accelerator": "GPU"
  },
  "cells": [
    {
      "cell_type": "code",
      "metadata": {
        "id": "7Z7vLlT9cQgP"
      },
      "source": [
        "import pandas as pd\n",
        "import numpy as np\n",
        "import io\n",
        "import string\n",
        "\n",
        "from sklearn.preprocessing import MinMaxScaler\n",
        "import matplotlib as mpl\n",
        "import matplotlib.pyplot as plt\n",
        "\n",
        "import tensorflow as tf\n",
        "from tensorflow import keras\n",
        "from tensorflow.keras import layers\n",
        "\n",
        "from transformers import *\n",
        "from transformers import BertTokenizer, TFBertModel, BertConfig"
      ],
      "execution_count": 18,
      "outputs": []
    },
    {
      "cell_type": "code",
      "metadata": {
        "id": "3WI0qymvh0HK"
      },
      "source": [
        "# pip install transformers"
      ],
      "execution_count": 53,
      "outputs": []
    },
    {
      "cell_type": "code",
      "metadata": {
        "id": "F4ybjXpXceJq"
      },
      "source": [
        "# Import train, val data from Kaggle dataset: https://www.kaggle.com/praveengovi/emotions-dataset-for-nlp\n",
        "\n",
        "train = pd.read_csv('train.txt', sep=\";\", header=None)\n",
        "val = pd.read_csv('val.txt', sep=\";\", header=None)\n",
        "test = pd.read_csv('test.txt', sep=\";\", header=None)"
      ],
      "execution_count": 19,
      "outputs": []
    },
    {
      "cell_type": "code",
      "metadata": {
        "id": "pff-ctLEggVI"
      },
      "source": [
        "# Read in tweets_final from Jae's github\n",
        "\n",
        "tweets = pd.read_csv('tweets_final.txt', sep=\",\")"
      ],
      "execution_count": 32,
      "outputs": []
    },
    {
      "cell_type": "code",
      "metadata": {
        "colab": {
          "base_uri": "https://localhost:8080/",
          "height": 233
        },
        "id": "zOo-nzhXpg3Q",
        "outputId": "4c88e26c-02d1-4680-a951-6648396ab52a"
      },
      "source": [
        "tweets.head(2)"
      ],
      "execution_count": 33,
      "outputs": [
        {
          "output_type": "execute_result",
          "data": {
            "text/html": [
              "<div>\n",
              "<style scoped>\n",
              "    .dataframe tbody tr th:only-of-type {\n",
              "        vertical-align: middle;\n",
              "    }\n",
              "\n",
              "    .dataframe tbody tr th {\n",
              "        vertical-align: top;\n",
              "    }\n",
              "\n",
              "    .dataframe thead th {\n",
              "        text-align: right;\n",
              "    }\n",
              "</style>\n",
              "<table border=\"1\" class=\"dataframe\">\n",
              "  <thead>\n",
              "    <tr style=\"text-align: right;\">\n",
              "      <th></th>\n",
              "      <th>Unnamed: 0</th>\n",
              "      <th>Unnamed: 0.1</th>\n",
              "      <th>id_str</th>\n",
              "      <th>term</th>\n",
              "      <th>created_at</th>\n",
              "      <th>inserted_at</th>\n",
              "      <th>favorite_count</th>\n",
              "      <th>retweet_count</th>\n",
              "      <th>truncated</th>\n",
              "      <th>source</th>\n",
              "      <th>text</th>\n",
              "      <th>is_quote_status</th>\n",
              "      <th>quoted_status_id_str</th>\n",
              "      <th>quoted_status_user_id_str</th>\n",
              "      <th>retweeted_status_id_str</th>\n",
              "      <th>retweeted_status_user_id_str</th>\n",
              "      <th>in_reply_to_status_id_str</th>\n",
              "      <th>in_reply_to_user_id_str</th>\n",
              "      <th>user_followers_count</th>\n",
              "      <th>user_friends_count</th>\n",
              "      <th>user_listed_count</th>\n",
              "      <th>user_id_str</th>\n",
              "      <th>sentiment_compound</th>\n",
              "      <th>sentiment_pos</th>\n",
              "      <th>sentiment_neg</th>\n",
              "      <th>sentiment_neu</th>\n",
              "      <th>created_date</th>\n",
              "      <th>language</th>\n",
              "    </tr>\n",
              "  </thead>\n",
              "  <tbody>\n",
              "    <tr>\n",
              "      <th>0</th>\n",
              "      <td>0</td>\n",
              "      <td>0</td>\n",
              "      <td>1316276527810609152</td>\n",
              "      <td>#Outbreak</td>\n",
              "      <td>2020-10-14 07:15:54</td>\n",
              "      <td>2020-10-22 10:10:03</td>\n",
              "      <td>0</td>\n",
              "      <td>3</td>\n",
              "      <td>0</td>\n",
              "      <td>&lt;a href=\"http://twitter.com/download/android\" ...</td>\n",
              "      <td>RT @GlobalVectorHub: Disease #outbreak news @W...</td>\n",
              "      <td>0</td>\n",
              "      <td>NaN</td>\n",
              "      <td>NaN</td>\n",
              "      <td>1.316126e+18</td>\n",
              "      <td>8.045946e+17</td>\n",
              "      <td>NaN</td>\n",
              "      <td>NaN</td>\n",
              "      <td>8246</td>\n",
              "      <td>9026</td>\n",
              "      <td>354</td>\n",
              "      <td>586521942</td>\n",
              "      <td>0.0</td>\n",
              "      <td>0.0</td>\n",
              "      <td>0.0</td>\n",
              "      <td>1.0</td>\n",
              "      <td>2020-10-14</td>\n",
              "      <td>en</td>\n",
              "    </tr>\n",
              "    <tr>\n",
              "      <th>1</th>\n",
              "      <td>1</td>\n",
              "      <td>1</td>\n",
              "      <td>1316277131979231232</td>\n",
              "      <td>#Social</td>\n",
              "      <td>2020-10-14 07:18:18</td>\n",
              "      <td>2020-10-22 10:06:35</td>\n",
              "      <td>0</td>\n",
              "      <td>0</td>\n",
              "      <td>0</td>\n",
              "      <td>&lt;a href=\"https://www.intellitravel.ovh\" rel=\"n...</td>\n",
              "      <td>#Photograph of the week: #Social #Distancing i...</td>\n",
              "      <td>0</td>\n",
              "      <td>NaN</td>\n",
              "      <td>NaN</td>\n",
              "      <td>NaN</td>\n",
              "      <td>NaN</td>\n",
              "      <td>NaN</td>\n",
              "      <td>NaN</td>\n",
              "      <td>7120</td>\n",
              "      <td>7746</td>\n",
              "      <td>1096</td>\n",
              "      <td>776383024019767296</td>\n",
              "      <td>0.0</td>\n",
              "      <td>0.0</td>\n",
              "      <td>0.0</td>\n",
              "      <td>1.0</td>\n",
              "      <td>2020-10-14</td>\n",
              "      <td>en</td>\n",
              "    </tr>\n",
              "  </tbody>\n",
              "</table>\n",
              "</div>"
            ],
            "text/plain": [
              "   Unnamed: 0  Unnamed: 0.1  ...  created_date language\n",
              "0           0             0  ...    2020-10-14       en\n",
              "1           1             1  ...    2020-10-14       en\n",
              "\n",
              "[2 rows x 28 columns]"
            ]
          },
          "metadata": {
            "tags": []
          },
          "execution_count": 33
        }
      ]
    },
    {
      "cell_type": "code",
      "metadata": {
        "id": "_vHgD4B5rVDL"
      },
      "source": [
        "tweets = tweets.text"
      ],
      "execution_count": 37,
      "outputs": []
    },
    {
      "cell_type": "code",
      "metadata": {
        "colab": {
          "base_uri": "https://localhost:8080/"
        },
        "id": "BbwWkmoTsguI",
        "outputId": "e3ead134-a6d3-441d-98da-72b0675c9e06"
      },
      "source": [
        "len(tweets)"
      ],
      "execution_count": null,
      "outputs": [
        {
          "output_type": "execute_result",
          "data": {
            "text/plain": [
              "146576"
            ]
          },
          "metadata": {
            "tags": []
          },
          "execution_count": 53
        }
      ]
    },
    {
      "cell_type": "code",
      "metadata": {
        "id": "tJ8jX3EQxlTx"
      },
      "source": [
        "# Same preprocessing from Jason's Rivanna file\n",
        "\n",
        "def clean_tweet(series):\n",
        "    \n",
        "    \"\"\"\n",
        "    series = pandas series of uncleaned tweet data \n",
        "    \n",
        "    This function will convert a tweet string using vectorized string functions and:\n",
        "    \n",
        "    1) Remove URLS\n",
        "    2) Strip Line Breaks\n",
        "    3) Remove punctuation\n",
        "    4) Remove numbers\n",
        "    5) Make lowercase\n",
        "    \n",
        "    \"\"\"\n",
        "    # Remove URLS\n",
        "    text = series.str.replace('(?:\\@|https?\\://)\\S+', '', regex=True)\n",
        "    \n",
        "    # Strip line breaks \n",
        "    text = text.str.replace('\\n', ' ')\n",
        "    \n",
        "    # Remove punctuation \n",
        "    punct = string.punctuation\n",
        "    \n",
        "    for x in punct:\n",
        "        text = text.str.replace(x, '')\n",
        "        \n",
        "    # Remove numbers\n",
        "    text = text.str.replace('\\d+', '')\n",
        "    \n",
        "    # Make lowercase \n",
        "    text = text.str.lower()\n",
        "    \n",
        "    return text "
      ],
      "execution_count": null,
      "outputs": []
    },
    {
      "cell_type": "code",
      "metadata": {
        "id": "sEtcxG-bxlWx"
      },
      "source": [
        "tweets = clean_tweet(tweets)"
      ],
      "execution_count": null,
      "outputs": []
    },
    {
      "cell_type": "code",
      "metadata": {
        "colab": {
          "base_uri": "https://localhost:8080/",
          "height": 204
        },
        "id": "Lmt4SeMKfQql",
        "outputId": "e37539c6-83fa-4962-e0f2-8a9e243b8c1c"
      },
      "source": [
        "# Training data\n",
        "\n",
        "train.columns = ['Sentence', 'Emotion']\n",
        "train.head()"
      ],
      "execution_count": 20,
      "outputs": [
        {
          "output_type": "execute_result",
          "data": {
            "text/html": [
              "<div>\n",
              "<style scoped>\n",
              "    .dataframe tbody tr th:only-of-type {\n",
              "        vertical-align: middle;\n",
              "    }\n",
              "\n",
              "    .dataframe tbody tr th {\n",
              "        vertical-align: top;\n",
              "    }\n",
              "\n",
              "    .dataframe thead th {\n",
              "        text-align: right;\n",
              "    }\n",
              "</style>\n",
              "<table border=\"1\" class=\"dataframe\">\n",
              "  <thead>\n",
              "    <tr style=\"text-align: right;\">\n",
              "      <th></th>\n",
              "      <th>Sentence</th>\n",
              "      <th>Emotion</th>\n",
              "    </tr>\n",
              "  </thead>\n",
              "  <tbody>\n",
              "    <tr>\n",
              "      <th>0</th>\n",
              "      <td>i didnt feel humiliated</td>\n",
              "      <td>sadness</td>\n",
              "    </tr>\n",
              "    <tr>\n",
              "      <th>1</th>\n",
              "      <td>i can go from feeling so hopeless to so damned...</td>\n",
              "      <td>sadness</td>\n",
              "    </tr>\n",
              "    <tr>\n",
              "      <th>2</th>\n",
              "      <td>im grabbing a minute to post i feel greedy wrong</td>\n",
              "      <td>anger</td>\n",
              "    </tr>\n",
              "    <tr>\n",
              "      <th>3</th>\n",
              "      <td>i am ever feeling nostalgic about the fireplac...</td>\n",
              "      <td>love</td>\n",
              "    </tr>\n",
              "    <tr>\n",
              "      <th>4</th>\n",
              "      <td>i am feeling grouchy</td>\n",
              "      <td>anger</td>\n",
              "    </tr>\n",
              "  </tbody>\n",
              "</table>\n",
              "</div>"
            ],
            "text/plain": [
              "                                            Sentence  Emotion\n",
              "0                            i didnt feel humiliated  sadness\n",
              "1  i can go from feeling so hopeless to so damned...  sadness\n",
              "2   im grabbing a minute to post i feel greedy wrong    anger\n",
              "3  i am ever feeling nostalgic about the fireplac...     love\n",
              "4                               i am feeling grouchy    anger"
            ]
          },
          "metadata": {
            "tags": []
          },
          "execution_count": 20
        }
      ]
    },
    {
      "cell_type": "code",
      "metadata": {
        "colab": {
          "base_uri": "https://localhost:8080/"
        },
        "id": "tbyqFGOHfSFa",
        "outputId": "660c0515-9c65-4f9d-dd93-317af5eff821"
      },
      "source": [
        "train.shape"
      ],
      "execution_count": 21,
      "outputs": [
        {
          "output_type": "execute_result",
          "data": {
            "text/plain": [
              "(16000, 2)"
            ]
          },
          "metadata": {
            "tags": []
          },
          "execution_count": 21
        }
      ]
    },
    {
      "cell_type": "code",
      "metadata": {
        "colab": {
          "base_uri": "https://localhost:8080/"
        },
        "id": "pHh-Gp0dfdAZ",
        "outputId": "c2569e7c-c8eb-43d4-d705-8c7e71bbfb2c"
      },
      "source": [
        "train.Emotion.value_counts()"
      ],
      "execution_count": null,
      "outputs": [
        {
          "output_type": "execute_result",
          "data": {
            "text/plain": [
              "joy         5362\n",
              "sadness     4666\n",
              "anger       2159\n",
              "fear        1937\n",
              "love        1304\n",
              "surprise     572\n",
              "Name: Emotion, dtype: int64"
            ]
          },
          "metadata": {
            "tags": []
          },
          "execution_count": 9
        }
      ]
    },
    {
      "cell_type": "code",
      "metadata": {
        "colab": {
          "base_uri": "https://localhost:8080/",
          "height": 66,
          "referenced_widgets": [
            "da5d8b5541b642108fa52556a0f1f866",
            "41f8dcb2399d4134aeaf58ce12592a98",
            "e8381063ad4a46a6b1db033fe1134de4",
            "74fb10f6c2db4c9a835c46d0bde1c168",
            "38b7c0bdadd0416f97e4ce89c0593c6a",
            "c7b16d4220c34311ab69fa7a9e07bf7b",
            "b220c018bda649d8a557596f08ee19ff",
            "79df7225035d421c86dc05b044644902"
          ]
        },
        "id": "n4Eiql6lfq4H",
        "outputId": "5df5f5da-de18-445e-a193-b69446ca213e"
      },
      "source": [
        "# Set up Bert Tokenizer\n",
        "\n",
        "bert_tokenizer = BertTokenizer.from_pretrained(\"bert-base-uncased\")"
      ],
      "execution_count": 27,
      "outputs": [
        {
          "output_type": "display_data",
          "data": {
            "application/vnd.jupyter.widget-view+json": {
              "model_id": "da5d8b5541b642108fa52556a0f1f866",
              "version_minor": 0,
              "version_major": 2
            },
            "text/plain": [
              "HBox(children=(FloatProgress(value=0.0, description='Downloading', max=231508.0, style=ProgressStyle(descripti…"
            ]
          },
          "metadata": {
            "tags": []
          }
        },
        {
          "output_type": "stream",
          "text": [
            "\n"
          ],
          "name": "stdout"
        }
      ]
    },
    {
      "cell_type": "code",
      "metadata": {
        "colab": {
          "base_uri": "https://localhost:8080/",
          "height": 220,
          "referenced_widgets": [
            "a3874e1dfd38447f921da87dd7544212",
            "3e0457d6b44641369daefd896be772a2",
            "74526e09c75f4b9e8060cea1ecce20f2",
            "642ec7d372504e65aaee6ac20225e15b",
            "a171ea61933f48df805e0f69dcf3c382",
            "fab07787925d4df6b5d04227081697d9",
            "6b6e3a5bc32f406995057ca76d119f91",
            "5ec0b026dc52473c8fab4ee1468bafb9",
            "477c7cf292a648dba19dc85ebe242054",
            "eb87d9178029463782648e24919292d2",
            "da7081026b704735b7906eeeaec0ed41",
            "f8b75546f87749d79bd7f44dd3803b92",
            "13fd8c1b14a64ef888a9d5c865ad291f",
            "17da216fd42745bead8252d8f5621a46",
            "a6b37fcc0e524d199681e3ee37f1316b",
            "936cc836af1c4db0b0039af4cbbf8345"
          ]
        },
        "id": "FpAPmxX4jCt7",
        "outputId": "a17da8fe-ca33-43a5-f82c-854e8f502f2c"
      },
      "source": [
        "# Create Bert model... also definitely helpful to swith to GPU runtime for the future training step\n",
        "\n",
        "num_classes = len(train.Emotion.unique())\n",
        "bert_model = TFBertForSequenceClassification.from_pretrained('bert-base-uncased',num_labels=num_classes)"
      ],
      "execution_count": null,
      "outputs": [
        {
          "output_type": "display_data",
          "data": {
            "application/vnd.jupyter.widget-view+json": {
              "model_id": "a3874e1dfd38447f921da87dd7544212",
              "version_minor": 0,
              "version_major": 2
            },
            "text/plain": [
              "HBox(children=(FloatProgress(value=0.0, description='Downloading', max=433.0, style=ProgressStyle(description_…"
            ]
          },
          "metadata": {
            "tags": []
          }
        },
        {
          "output_type": "stream",
          "text": [
            "\n"
          ],
          "name": "stdout"
        },
        {
          "output_type": "display_data",
          "data": {
            "application/vnd.jupyter.widget-view+json": {
              "model_id": "477c7cf292a648dba19dc85ebe242054",
              "version_minor": 0,
              "version_major": 2
            },
            "text/plain": [
              "HBox(children=(FloatProgress(value=0.0, description='Downloading', max=536063208.0, style=ProgressStyle(descri…"
            ]
          },
          "metadata": {
            "tags": []
          }
        },
        {
          "output_type": "stream",
          "text": [
            "\n"
          ],
          "name": "stdout"
        },
        {
          "output_type": "stream",
          "text": [
            "Some layers from the model checkpoint at bert-base-uncased were not used when initializing TFBertForSequenceClassification: ['nsp___cls', 'mlm___cls']\n",
            "- This IS expected if you are initializing TFBertForSequenceClassification from the checkpoint of a model trained on another task or with another architecture (e.g. initializing a BertForSequenceClassification model from a BertForPreTraining model).\n",
            "- This IS NOT expected if you are initializing TFBertForSequenceClassification from the checkpoint of a model that you expect to be exactly identical (initializing a BertForSequenceClassification model from a BertForSequenceClassification model).\n",
            "Some layers of TFBertForSequenceClassification were not initialized from the model checkpoint at bert-base-uncased and are newly initialized: ['dropout_37', 'classifier']\n",
            "You should probably TRAIN this model on a down-stream task to be able to use it for predictions and inference.\n"
          ],
          "name": "stderr"
        }
      ]
    },
    {
      "cell_type": "code",
      "metadata": {
        "id": "RrrWf2k5jSvq",
        "colab": {
          "base_uri": "https://localhost:8080/"
        },
        "outputId": "bed0ae01-8b14-4344-ff43-da51d42a1199"
      },
      "source": [
        "bert_model.summary()"
      ],
      "execution_count": null,
      "outputs": [
        {
          "output_type": "stream",
          "text": [
            "Model: \"tf_bert_for_sequence_classification\"\n",
            "_________________________________________________________________\n",
            "Layer (type)                 Output Shape              Param #   \n",
            "=================================================================\n",
            "bert (TFBertMainLayer)       multiple                  109482240 \n",
            "_________________________________________________________________\n",
            "dropout_37 (Dropout)         multiple                  0         \n",
            "_________________________________________________________________\n",
            "classifier (Dense)           multiple                  4614      \n",
            "=================================================================\n",
            "Total params: 109,486,854\n",
            "Trainable params: 109,486,854\n",
            "Non-trainable params: 0\n",
            "_________________________________________________________________\n"
          ],
          "name": "stdout"
        }
      ]
    },
    {
      "cell_type": "code",
      "metadata": {
        "id": "U9Qk4vSgjXLR"
      },
      "source": [
        "# Put into format the Bert model can work with\n",
        "\n",
        "def convert(df):\n",
        "\n",
        "  df.columns = ['Sentence', 'Emotion']\n",
        "  df['label'] = df['Emotion'].map({'joy':0, 'sadness':1, 'anger':2, 'fear':3, 'love':4, 'surprise':5})\n",
        "  \n",
        "  return df"
      ],
      "execution_count": 22,
      "outputs": []
    },
    {
      "cell_type": "code",
      "metadata": {
        "id": "KJLTzxlsmt82"
      },
      "source": [
        "train = convert(train)\n",
        "val = convert(val)\n",
        "test = convert(test)"
      ],
      "execution_count": 23,
      "outputs": []
    },
    {
      "cell_type": "code",
      "metadata": {
        "colab": {
          "base_uri": "https://localhost:8080/",
          "height": 204
        },
        "id": "RvFpTgMvm_Ql",
        "outputId": "a7121e3f-3333-46d2-faf3-4bede17fee5e"
      },
      "source": [
        "train.head()"
      ],
      "execution_count": 24,
      "outputs": [
        {
          "output_type": "execute_result",
          "data": {
            "text/html": [
              "<div>\n",
              "<style scoped>\n",
              "    .dataframe tbody tr th:only-of-type {\n",
              "        vertical-align: middle;\n",
              "    }\n",
              "\n",
              "    .dataframe tbody tr th {\n",
              "        vertical-align: top;\n",
              "    }\n",
              "\n",
              "    .dataframe thead th {\n",
              "        text-align: right;\n",
              "    }\n",
              "</style>\n",
              "<table border=\"1\" class=\"dataframe\">\n",
              "  <thead>\n",
              "    <tr style=\"text-align: right;\">\n",
              "      <th></th>\n",
              "      <th>Sentence</th>\n",
              "      <th>Emotion</th>\n",
              "      <th>label</th>\n",
              "    </tr>\n",
              "  </thead>\n",
              "  <tbody>\n",
              "    <tr>\n",
              "      <th>0</th>\n",
              "      <td>i didnt feel humiliated</td>\n",
              "      <td>sadness</td>\n",
              "      <td>1</td>\n",
              "    </tr>\n",
              "    <tr>\n",
              "      <th>1</th>\n",
              "      <td>i can go from feeling so hopeless to so damned...</td>\n",
              "      <td>sadness</td>\n",
              "      <td>1</td>\n",
              "    </tr>\n",
              "    <tr>\n",
              "      <th>2</th>\n",
              "      <td>im grabbing a minute to post i feel greedy wrong</td>\n",
              "      <td>anger</td>\n",
              "      <td>2</td>\n",
              "    </tr>\n",
              "    <tr>\n",
              "      <th>3</th>\n",
              "      <td>i am ever feeling nostalgic about the fireplac...</td>\n",
              "      <td>love</td>\n",
              "      <td>4</td>\n",
              "    </tr>\n",
              "    <tr>\n",
              "      <th>4</th>\n",
              "      <td>i am feeling grouchy</td>\n",
              "      <td>anger</td>\n",
              "      <td>2</td>\n",
              "    </tr>\n",
              "  </tbody>\n",
              "</table>\n",
              "</div>"
            ],
            "text/plain": [
              "                                            Sentence  Emotion  label\n",
              "0                            i didnt feel humiliated  sadness      1\n",
              "1  i can go from feeling so hopeless to so damned...  sadness      1\n",
              "2   im grabbing a minute to post i feel greedy wrong    anger      2\n",
              "3  i am ever feeling nostalgic about the fireplac...     love      4\n",
              "4                               i am feeling grouchy    anger      2"
            ]
          },
          "metadata": {
            "tags": []
          },
          "execution_count": 24
        }
      ]
    },
    {
      "cell_type": "code",
      "metadata": {
        "id": "VQt7Y5vS645y"
      },
      "source": [
        "# Generate necessary inputs for Bert model from the data \r\n",
        "\r\n",
        "def preprocess(df):\r\n",
        "\r\n",
        "  if len(df) / df.size == 1.0:\r\n",
        "    sentences = df\r\n",
        "    labels = []\r\n",
        "  else:\r\n",
        "    sentences = df['Sentence']\r\n",
        "    labels = df['label']\r\n",
        "\r\n",
        "  input_ids=[]\r\n",
        "  attention_masks=[]\r\n",
        "\r\n",
        "  for sent in sentences:\r\n",
        "      bert_inp=bert_tokenizer.encode_plus(sent, add_special_tokens = True, max_length = 64, pad_to_max_length = True, return_attention_mask = True)\r\n",
        "      input_ids.append(bert_inp['input_ids'])\r\n",
        "      attention_masks.append(bert_inp['attention_mask'])\r\n",
        "\r\n",
        "  input_ids = np.asarray(input_ids)\r\n",
        "  attention_masks = np.array(attention_masks)\r\n",
        "  labels = np.array(labels)\r\n",
        "\r\n",
        "  return input_ids, attention_masks, labels"
      ],
      "execution_count": 25,
      "outputs": []
    },
    {
      "cell_type": "code",
      "metadata": {
        "colab": {
          "base_uri": "https://localhost:8080/"
        },
        "id": "pSHRfsciorOK",
        "outputId": "2796bbbe-62c6-4bca-eed4-03ce1ebc464f"
      },
      "source": [
        "input_ids, attention_masks, labels = preprocess(train)\r\n",
        "input_ids_v, attention_masks_v, labels_v = preprocess(val)\r\n",
        "input_ids_t, attention_masks_t, labels_t = preprocess(test)"
      ],
      "execution_count": 28,
      "outputs": [
        {
          "output_type": "stream",
          "text": [
            "Truncation was not explicitly activated but `max_length` is provided a specific value, please use `truncation=True` to explicitly truncate examples to max length. Defaulting to 'longest_first' truncation strategy. If you encode pairs of sequences (GLUE-style) with the tokenizer you can select this strategy more precisely by providing a specific strategy to `truncation`.\n",
            "/usr/local/lib/python3.6/dist-packages/transformers/tokenization_utils_base.py:2179: FutureWarning: The `pad_to_max_length` argument is deprecated and will be removed in a future version, use `padding=True` or `padding='longest'` to pad to the longest sequence in the batch, or use `padding='max_length'` to pad to a max length. In this case, you can give a specific length with `max_length` (e.g. `max_length=45`) or leave max_length to None to pad to the maximal input size of the model (e.g. 512 for Bert).\n",
            "  FutureWarning,\n"
          ],
          "name": "stderr"
        }
      ]
    },
    {
      "cell_type": "code",
      "metadata": {
        "colab": {
          "base_uri": "https://localhost:8080/"
        },
        "id": "PrmXGpWuov6B",
        "outputId": "8bcf017e-3d67-4226-d211-52553acc253f"
      },
      "source": [
        "# Set up optimizer, loss, and callbacks\n",
        "\n",
        "log_dir='tensorboard_data/tb_bert'\n",
        "model_save_path='./models/bert_model.h5'\n",
        "\n",
        "callbacks = [tf.keras.callbacks.ModelCheckpoint(filepath=model_save_path,save_weights_only=True,monitor='val_loss',mode='min',save_best_only=True),keras.callbacks.TensorBoard(log_dir=log_dir)]\n",
        "\n",
        "print('\\nBert Model', bert_model.summary())\n",
        "\n",
        "loss = tf.keras.losses.SparseCategoricalCrossentropy(from_logits=True)\n",
        "metric = tf.keras.metrics.SparseCategoricalAccuracy('accuracy')\n",
        "optimizer = tf.keras.optimizers.Adam(learning_rate=2e-5,epsilon=1e-08)\n",
        "\n",
        "bert_model.compile(loss=loss,optimizer=optimizer,metrics=[metric])"
      ],
      "execution_count": null,
      "outputs": [
        {
          "output_type": "stream",
          "text": [
            "Model: \"tf_bert_for_sequence_classification\"\n",
            "_________________________________________________________________\n",
            "Layer (type)                 Output Shape              Param #   \n",
            "=================================================================\n",
            "bert (TFBertMainLayer)       multiple                  109482240 \n",
            "_________________________________________________________________\n",
            "dropout_37 (Dropout)         multiple                  0         \n",
            "_________________________________________________________________\n",
            "classifier (Dense)           multiple                  4614      \n",
            "=================================================================\n",
            "Total params: 109,486,854\n",
            "Trainable params: 109,486,854\n",
            "Non-trainable params: 0\n",
            "_________________________________________________________________\n",
            "\n",
            "Bert Model None\n"
          ],
          "name": "stdout"
        }
      ]
    },
    {
      "cell_type": "code",
      "metadata": {
        "colab": {
          "base_uri": "https://localhost:8080/"
        },
        "id": "i0BxD0kWo6lp",
        "outputId": "51d6a6bd-cb66-4782-f2a1-543bc9e8118e"
      },
      "source": [
        "# Train model on train data with validation data also\n",
        "\n",
        "history = bert_model.fit([input_ids, attention_masks], labels, batch_size=8, epochs=5, validation_data=([input_ids_v, attention_masks_v], labels_v), callbacks=callbacks)"
      ],
      "execution_count": null,
      "outputs": [
        {
          "output_type": "stream",
          "text": [
            "Epoch 1/5\n",
            "   1/2000 [..............................] - ETA: 0s - loss: 1.8240 - accuracy: 0.1250WARNING:tensorflow:From /usr/local/lib/python3.6/dist-packages/tensorflow/python/ops/summary_ops_v2.py:1277: stop (from tensorflow.python.eager.profiler) is deprecated and will be removed after 2020-07-01.\n",
            "Instructions for updating:\n",
            "use `tf.profiler.experimental.stop` instead.\n",
            "   2/2000 [..............................] - ETA: 7:44 - loss: 1.8345 - accuracy: 0.0625WARNING:tensorflow:Callbacks method `on_train_batch_end` is slow compared to the batch time (batch time: 0.1334s vs `on_train_batch_end` time: 0.3308s). Check your callbacks.\n",
            "2000/2000 [==============================] - ETA: 0s - loss: 0.4278 - accuracy: 0.8522WARNING:tensorflow:Callbacks method `on_test_batch_end` is slow compared to the batch time (batch time: 0.0077s vs `on_test_batch_end` time: 0.0231s). Check your callbacks.\n",
            "2000/2000 [==============================] - 259s 129ms/step - loss: 0.4278 - accuracy: 0.8522 - val_loss: 0.2065 - val_accuracy: 0.9260\n",
            "Epoch 2/5\n",
            "2000/2000 [==============================] - 263s 131ms/step - loss: 0.1368 - accuracy: 0.9411 - val_loss: 0.1365 - val_accuracy: 0.9340\n",
            "Epoch 3/5\n",
            "2000/2000 [==============================] - 262s 131ms/step - loss: 0.1016 - accuracy: 0.9509 - val_loss: 0.1553 - val_accuracy: 0.9325\n",
            "Epoch 4/5\n",
            "2000/2000 [==============================] - 263s 132ms/step - loss: 0.0935 - accuracy: 0.9542 - val_loss: 0.1400 - val_accuracy: 0.9365\n",
            "Epoch 5/5\n",
            "2000/2000 [==============================] - 263s 131ms/step - loss: 0.0832 - accuracy: 0.9612 - val_loss: 0.1558 - val_accuracy: 0.9415\n"
          ],
          "name": "stdout"
        }
      ]
    },
    {
      "cell_type": "code",
      "metadata": {
        "id": "MTpvhWIfrPTf"
      },
      "source": [
        "# Create predictions with test data\n",
        "\n",
        "preds = bert_model.predict([input_ids_t, attention_masks_t])"
      ],
      "execution_count": null,
      "outputs": []
    },
    {
      "cell_type": "code",
      "metadata": {
        "colab": {
          "base_uri": "https://localhost:8080/"
        },
        "id": "FU9OWKt63WcC",
        "outputId": "f30c8196-771b-48a9-d97e-baa5973ca773"
      },
      "source": [
        "np.shape(preds)"
      ],
      "execution_count": null,
      "outputs": [
        {
          "output_type": "execute_result",
          "data": {
            "text/plain": [
              "(1, 2000, 6)"
            ]
          },
          "metadata": {
            "tags": []
          },
          "execution_count": 22
        }
      ]
    },
    {
      "cell_type": "code",
      "metadata": {
        "colab": {
          "base_uri": "https://localhost:8080/"
        },
        "id": "YS5ewv9V2wCq",
        "outputId": "3305cdb8-7d00-46c9-fb2c-655b650cfd20"
      },
      "source": [
        "# Find most probable prediction (in the future could be good to delete uncertain ones)\n",
        "\n",
        "np.argmax(np.squeeze(preds), axis=1)[0:20]"
      ],
      "execution_count": null,
      "outputs": [
        {
          "output_type": "execute_result",
          "data": {
            "text/plain": [
              "array([1, 1, 1, 0, 1, 3, 2, 0, 0, 2, 2, 1, 3, 0, 4, 1, 0, 1, 2, 0])"
            ]
          },
          "metadata": {
            "tags": []
          },
          "execution_count": 23
        }
      ]
    },
    {
      "cell_type": "code",
      "metadata": {
        "colab": {
          "base_uri": "https://localhost:8080/"
        },
        "id": "a6ssEOre2Rrd",
        "outputId": "95091a5f-b9be-4ee3-9a0b-da295cef491f"
      },
      "source": [
        "# Compare with test labels\n",
        "\n",
        "test.label[0:20]"
      ],
      "execution_count": null,
      "outputs": [
        {
          "output_type": "execute_result",
          "data": {
            "text/plain": [
              "0     1\n",
              "1     1\n",
              "2     1\n",
              "3     0\n",
              "4     1\n",
              "5     3\n",
              "6     2\n",
              "7     0\n",
              "8     0\n",
              "9     2\n",
              "10    3\n",
              "11    1\n",
              "12    3\n",
              "13    0\n",
              "14    4\n",
              "15    1\n",
              "16    0\n",
              "17    1\n",
              "18    2\n",
              "19    0\n",
              "Name: label, dtype: int64"
            ]
          },
          "metadata": {
            "tags": []
          },
          "execution_count": 31
        }
      ]
    },
    {
      "cell_type": "code",
      "metadata": {
        "id": "SSvIm_o_yq4x"
      },
      "source": [
        "# Preprocess tweets exactly the same as we did for train, val and test data\n",
        "\n",
        "input_ids, attention_masks, labels = preprocess(tweets)"
      ],
      "execution_count": null,
      "outputs": []
    },
    {
      "cell_type": "code",
      "metadata": {
        "id": "YJVY8KcM2ZFs"
      },
      "source": [
        "# Predict on tweets\n",
        "\n",
        "tweet_preds = bert_model.predict([input_ids, attention_masks])"
      ],
      "execution_count": null,
      "outputs": []
    },
    {
      "cell_type": "code",
      "metadata": {
        "id": "yqzUQhmV1xqm"
      },
      "source": [
        "# See highest probability prediction for tweets\n",
        "\n",
        "max_pred = np.argmax(np.squeeze(tweet_preds), axis=1)"
      ],
      "execution_count": null,
      "outputs": []
    },
    {
      "cell_type": "code",
      "metadata": {
        "id": "kKVx9i0yCBFl"
      },
      "source": [
        "# Combine tweet with sentiment\n",
        "\n",
        "tweet_sent = pd.DataFrame(data = {'text':tweets, 'label':max_pred})"
      ],
      "execution_count": null,
      "outputs": []
    },
    {
      "cell_type": "code",
      "metadata": {
        "colab": {
          "base_uri": "https://localhost:8080/",
          "height": 359
        },
        "id": "W8ujJqNUIcZD",
        "outputId": "c52fc53a-f246-47dc-cf1a-225914679367"
      },
      "source": [
        "tweet_sent.head(10)"
      ],
      "execution_count": null,
      "outputs": [
        {
          "output_type": "execute_result",
          "data": {
            "text/html": [
              "<div>\n",
              "<style scoped>\n",
              "    .dataframe tbody tr th:only-of-type {\n",
              "        vertical-align: middle;\n",
              "    }\n",
              "\n",
              "    .dataframe tbody tr th {\n",
              "        vertical-align: top;\n",
              "    }\n",
              "\n",
              "    .dataframe thead th {\n",
              "        text-align: right;\n",
              "    }\n",
              "</style>\n",
              "<table border=\"1\" class=\"dataframe\">\n",
              "  <thead>\n",
              "    <tr style=\"text-align: right;\">\n",
              "      <th></th>\n",
              "      <th>text</th>\n",
              "      <th>label</th>\n",
              "    </tr>\n",
              "  </thead>\n",
              "  <tbody>\n",
              "    <tr>\n",
              "      <th>0</th>\n",
              "      <td>rt  disease outbreak news  oropouche virus dis...</td>\n",
              "      <td>3</td>\n",
              "    </tr>\n",
              "    <tr>\n",
              "      <th>1</th>\n",
              "      <td>photograph of the week social distancing in th...</td>\n",
              "      <td>2</td>\n",
              "    </tr>\n",
              "    <tr>\n",
              "      <th>2</th>\n",
              "      <td>new coronavirus cases are up by at least  in  ...</td>\n",
              "      <td>3</td>\n",
              "    </tr>\n",
              "    <tr>\n",
              "      <th>3</th>\n",
              "      <td>photograph of the week social distancing withi...</td>\n",
              "      <td>0</td>\n",
              "    </tr>\n",
              "    <tr>\n",
              "      <th>4</th>\n",
              "      <td>total confirmed   total recovered   total dea...</td>\n",
              "      <td>0</td>\n",
              "    </tr>\n",
              "    <tr>\n",
              "      <th>5</th>\n",
              "      <td>several regions sound alarm as us reports most...</td>\n",
              "      <td>3</td>\n",
              "    </tr>\n",
              "    <tr>\n",
              "      <th>6</th>\n",
              "      <td>hockey on hold  waiting time again   corona ou...</td>\n",
              "      <td>0</td>\n",
              "    </tr>\n",
              "    <tr>\n",
              "      <th>7</th>\n",
              "      <td>a recent study shows that most diners want soc...</td>\n",
              "      <td>2</td>\n",
              "    </tr>\n",
              "    <tr>\n",
              "      <th>8</th>\n",
              "      <td>rt  disease outbreak news  oropouche virus dis...</td>\n",
              "      <td>3</td>\n",
              "    </tr>\n",
              "    <tr>\n",
              "      <th>9</th>\n",
              "      <td>nations of the african outbreak response allia...</td>\n",
              "      <td>0</td>\n",
              "    </tr>\n",
              "  </tbody>\n",
              "</table>\n",
              "</div>"
            ],
            "text/plain": [
              "                                                text  label\n",
              "0  rt  disease outbreak news  oropouche virus dis...      3\n",
              "1  photograph of the week social distancing in th...      2\n",
              "2  new coronavirus cases are up by at least  in  ...      3\n",
              "3  photograph of the week social distancing withi...      0\n",
              "4   total confirmed   total recovered   total dea...      0\n",
              "5  several regions sound alarm as us reports most...      3\n",
              "6  hockey on hold  waiting time again   corona ou...      0\n",
              "7  a recent study shows that most diners want soc...      2\n",
              "8  rt  disease outbreak news  oropouche virus dis...      3\n",
              "9  nations of the african outbreak response allia...      0"
            ]
          },
          "metadata": {
            "tags": []
          },
          "execution_count": 56
        }
      ]
    },
    {
      "cell_type": "code",
      "metadata": {
        "id": "wNEj_wmK0x2z"
      },
      "source": [
        "tweet_sent.to_csv('tweet_sent.csv')"
      ],
      "execution_count": null,
      "outputs": []
    },
    {
      "cell_type": "code",
      "metadata": {
        "id": "a0XFJ13k1vQ9"
      },
      "source": [
        "tweet_sent = pd.read_csv('tweet_sent.csv', lineterminator='\\n')"
      ],
      "execution_count": null,
      "outputs": []
    },
    {
      "cell_type": "code",
      "metadata": {
        "id": "yPYF1BsV1vT0"
      },
      "source": [
        "# Add dates back to the database (should've kept this earlier, but whatever)\n",
        "\n",
        "tweet_sent = pd.concat([tweet_sent, tweets.created_at], axis = 1)\n",
        "tweet_sent['date'] = pd.to_datetime(tweet_sent['created_at']).dt.date\n",
        "tweet_sent = tweet_sent.loc[:, ['text', 'label', 'date']]\n",
        "\n",
        "tweet_sent.to_csv('tweet_senti.csv')"
      ],
      "execution_count": null,
      "outputs": []
    },
    {
      "cell_type": "code",
      "metadata": {
        "id": "lhwo9ShT1vW0"
      },
      "source": [
        "tweet_sent = pd.read_csv('tweet_senti.csv', lineterminator='\\n')"
      ],
      "execution_count": 42,
      "outputs": []
    },
    {
      "cell_type": "code",
      "metadata": {
        "colab": {
          "base_uri": "https://localhost:8080/",
          "height": 204
        },
        "id": "zoAMVISF1zzY",
        "outputId": "549fd4d4-c98d-40bd-8fd0-a843201a5f21"
      },
      "source": [
        "tweet_sent.head()"
      ],
      "execution_count": 43,
      "outputs": [
        {
          "output_type": "execute_result",
          "data": {
            "text/html": [
              "<div>\n",
              "<style scoped>\n",
              "    .dataframe tbody tr th:only-of-type {\n",
              "        vertical-align: middle;\n",
              "    }\n",
              "\n",
              "    .dataframe tbody tr th {\n",
              "        vertical-align: top;\n",
              "    }\n",
              "\n",
              "    .dataframe thead th {\n",
              "        text-align: right;\n",
              "    }\n",
              "</style>\n",
              "<table border=\"1\" class=\"dataframe\">\n",
              "  <thead>\n",
              "    <tr style=\"text-align: right;\">\n",
              "      <th></th>\n",
              "      <th>Unnamed: 0</th>\n",
              "      <th>text</th>\n",
              "      <th>label</th>\n",
              "      <th>date</th>\n",
              "    </tr>\n",
              "  </thead>\n",
              "  <tbody>\n",
              "    <tr>\n",
              "      <th>0</th>\n",
              "      <td>0</td>\n",
              "      <td>rt  disease outbreak news  oropouche virus dis...</td>\n",
              "      <td>3.0</td>\n",
              "      <td>2020-10-14</td>\n",
              "    </tr>\n",
              "    <tr>\n",
              "      <th>1</th>\n",
              "      <td>1</td>\n",
              "      <td>photograph of the week social distancing in th...</td>\n",
              "      <td>2.0</td>\n",
              "      <td>2020-10-14</td>\n",
              "    </tr>\n",
              "    <tr>\n",
              "      <th>2</th>\n",
              "      <td>2</td>\n",
              "      <td>new coronavirus cases are up by at least  in  ...</td>\n",
              "      <td>3.0</td>\n",
              "      <td>2020-10-14</td>\n",
              "    </tr>\n",
              "    <tr>\n",
              "      <th>3</th>\n",
              "      <td>3</td>\n",
              "      <td>photograph of the week social distancing withi...</td>\n",
              "      <td>0.0</td>\n",
              "      <td>2020-10-14</td>\n",
              "    </tr>\n",
              "    <tr>\n",
              "      <th>4</th>\n",
              "      <td>4</td>\n",
              "      <td>total confirmed   total recovered   total dea...</td>\n",
              "      <td>0.0</td>\n",
              "      <td>2020-10-14</td>\n",
              "    </tr>\n",
              "  </tbody>\n",
              "</table>\n",
              "</div>"
            ],
            "text/plain": [
              "   Unnamed: 0  ...        date\n",
              "0           0  ...  2020-10-14\n",
              "1           1  ...  2020-10-14\n",
              "2           2  ...  2020-10-14\n",
              "3           3  ...  2020-10-14\n",
              "4           4  ...  2020-10-14\n",
              "\n",
              "[5 rows x 4 columns]"
            ]
          },
          "metadata": {
            "tags": []
          },
          "execution_count": 43
        }
      ]
    },
    {
      "cell_type": "code",
      "metadata": {
        "id": "_lqMSIe912Jw"
      },
      "source": [
        "tweet_sent = tweet_sent.loc[:, ['date', 'text', 'label']]"
      ],
      "execution_count": 44,
      "outputs": []
    },
    {
      "cell_type": "code",
      "metadata": {
        "id": "lBe4qg6l30lf"
      },
      "source": [
        "pd.set_option('display.max_colwidth', None)"
      ],
      "execution_count": 45,
      "outputs": []
    },
    {
      "cell_type": "code",
      "metadata": {
        "colab": {
          "base_uri": "https://localhost:8080/",
          "height": 173
        },
        "id": "LBhvj54G2JlG",
        "outputId": "3c3d5046-3b6e-4dc9-b3de-cb8542f1419e"
      },
      "source": [
        "# See random tweets that were labled as Joy\n",
        "\n",
        "joy = tweet_sent[tweet_sent.label == 0]\n",
        "joy.sample(4)"
      ],
      "execution_count": 52,
      "outputs": [
        {
          "output_type": "execute_result",
          "data": {
            "text/html": [
              "<div>\n",
              "<style scoped>\n",
              "    .dataframe tbody tr th:only-of-type {\n",
              "        vertical-align: middle;\n",
              "    }\n",
              "\n",
              "    .dataframe tbody tr th {\n",
              "        vertical-align: top;\n",
              "    }\n",
              "\n",
              "    .dataframe thead th {\n",
              "        text-align: right;\n",
              "    }\n",
              "</style>\n",
              "<table border=\"1\" class=\"dataframe\">\n",
              "  <thead>\n",
              "    <tr style=\"text-align: right;\">\n",
              "      <th></th>\n",
              "      <th>date</th>\n",
              "      <th>text</th>\n",
              "      <th>label</th>\n",
              "    </tr>\n",
              "  </thead>\n",
              "  <tbody>\n",
              "    <tr>\n",
              "      <th>44064</th>\n",
              "      <td>2020-10-27</td>\n",
              "      <td>rt  cases are up because testing more but death rate from covid is down     this is very goodnews  you wont hear it on t…</td>\n",
              "      <td>0.0</td>\n",
              "    </tr>\n",
              "    <tr>\n",
              "      <th>61606</th>\n",
              "      <td>2020-10-28</td>\n",
              "      <td>appreciating today’s thought provoking  agefriendly regional roundtable discussion about creating equitable agefriendly communities as we deal with twin pandemics covid amp systemicracism</td>\n",
              "      <td>0.0</td>\n",
              "    </tr>\n",
              "    <tr>\n",
              "      <th>9161</th>\n",
              "      <td>2020-10-21</td>\n",
              "      <td>conferencia de prensa covid   de octubre de  graciasporcuidarnos</td>\n",
              "      <td>0.0</td>\n",
              "    </tr>\n",
              "    <tr>\n",
              "      <th>93461</th>\n",
              "      <td>2020-11-01</td>\n",
              "      <td>rt  australia covid deathscapita   of us   swift and stringent measures combined with community compliance have been cred…</td>\n",
              "      <td>0.0</td>\n",
              "    </tr>\n",
              "  </tbody>\n",
              "</table>\n",
              "</div>"
            ],
            "text/plain": [
              "             date  ... label\n",
              "44064  2020-10-27  ...   0.0\n",
              "61606  2020-10-28  ...   0.0\n",
              "9161   2020-10-21  ...   0.0\n",
              "93461  2020-11-01  ...   0.0\n",
              "\n",
              "[4 rows x 3 columns]"
            ]
          },
          "metadata": {
            "tags": []
          },
          "execution_count": 52
        }
      ]
    },
    {
      "cell_type": "code",
      "metadata": {
        "colab": {
          "base_uri": "https://localhost:8080/",
          "height": 241
        },
        "id": "N-W8zhRW2e-p",
        "outputId": "509d9e8d-ce50-4c14-f35e-fc00db18bf2d"
      },
      "source": [
        "sadness = tweet_sent[tweet_sent.label == 1]\n",
        "sadness.sample(4)"
      ],
      "execution_count": null,
      "outputs": [
        {
          "output_type": "execute_result",
          "data": {
            "text/html": [
              "<div>\n",
              "<style scoped>\n",
              "    .dataframe tbody tr th:only-of-type {\n",
              "        vertical-align: middle;\n",
              "    }\n",
              "\n",
              "    .dataframe tbody tr th {\n",
              "        vertical-align: top;\n",
              "    }\n",
              "\n",
              "    .dataframe thead th {\n",
              "        text-align: right;\n",
              "    }\n",
              "</style>\n",
              "<table border=\"1\" class=\"dataframe\">\n",
              "  <thead>\n",
              "    <tr style=\"text-align: right;\">\n",
              "      <th></th>\n",
              "      <th>date</th>\n",
              "      <th>text</th>\n",
              "      <th>label</th>\n",
              "    </tr>\n",
              "  </thead>\n",
              "  <tbody>\n",
              "    <tr>\n",
              "      <th>128063</th>\n",
              "      <td>2020-11-08</td>\n",
              "      <td>rt  devastating— members of a south dakota family died from covid janice lost her sister brother in law cousin and her…</td>\n",
              "      <td>1</td>\n",
              "    </tr>\n",
              "    <tr>\n",
              "      <th>130101</th>\n",
              "      <td>2020-11-09</td>\n",
              "      <td>while this infantile monster is wanting to sue the very basis of democracy i wonder if the families of all those who died of corona  can start a class action suit against him for wrongful death</td>\n",
              "      <td>1</td>\n",
              "    </tr>\n",
              "    <tr>\n",
              "      <th>37367</th>\n",
              "      <td>2020-10-27</td>\n",
              "      <td>this x  if “don’t order a test you can’t follow up on” is a maxim of testing then it can’t be understated that support  during quarantine is how you follow up on a covid test  especially for disadvantaged communities disproportionately impacted by this virus</td>\n",
              "      <td>1</td>\n",
              "    </tr>\n",
              "    <tr>\n",
              "      <th>566</th>\n",
              "      <td>2020-10-17</td>\n",
              "      <td>covid coronavirus outbreak update total cases  total deaths  more details  coronavirus covid outbreak</td>\n",
              "      <td>1</td>\n",
              "    </tr>\n",
              "  </tbody>\n",
              "</table>\n",
              "</div>"
            ],
            "text/plain": [
              "              date  ... label\n",
              "128063  2020-11-08  ...     1\n",
              "130101  2020-11-09  ...     1\n",
              "37367   2020-10-27  ...     1\n",
              "566     2020-10-17  ...     1\n",
              "\n",
              "[4 rows x 3 columns]"
            ]
          },
          "metadata": {
            "tags": []
          },
          "execution_count": 7
        }
      ]
    },
    {
      "cell_type": "code",
      "metadata": {
        "colab": {
          "base_uri": "https://localhost:8080/",
          "height": 173
        },
        "id": "5gcMVufv2fBb",
        "outputId": "a611f2d8-61be-404c-b593-4d86a17e0d56"
      },
      "source": [
        "anger = tweet_sent[tweet_sent.label == 2]\n",
        "anger.sample(4)"
      ],
      "execution_count": null,
      "outputs": [
        {
          "output_type": "execute_result",
          "data": {
            "text/html": [
              "<div>\n",
              "<style scoped>\n",
              "    .dataframe tbody tr th:only-of-type {\n",
              "        vertical-align: middle;\n",
              "    }\n",
              "\n",
              "    .dataframe tbody tr th {\n",
              "        vertical-align: top;\n",
              "    }\n",
              "\n",
              "    .dataframe thead th {\n",
              "        text-align: right;\n",
              "    }\n",
              "</style>\n",
              "<table border=\"1\" class=\"dataframe\">\n",
              "  <thead>\n",
              "    <tr style=\"text-align: right;\">\n",
              "      <th></th>\n",
              "      <th>date</th>\n",
              "      <th>text</th>\n",
              "      <th>label</th>\n",
              "    </tr>\n",
              "  </thead>\n",
              "  <tbody>\n",
              "    <tr>\n",
              "      <th>35998</th>\n",
              "      <td>2020-10-27</td>\n",
              "      <td>rt  “speed trumps perfection” michael ryan who chief executive director tasked with containing the covid outbreak inter…</td>\n",
              "      <td>2</td>\n",
              "    </tr>\n",
              "    <tr>\n",
              "      <th>34977</th>\n",
              "      <td>2020-10-27</td>\n",
              "      <td>americas frontline doctors censored again on covid treatments masks and negative effects of lockdowns  link to their second summit in dc    reopen</td>\n",
              "      <td>2</td>\n",
              "    </tr>\n",
              "    <tr>\n",
              "      <th>50947</th>\n",
              "      <td>2020-10-28</td>\n",
              "      <td>rt  the mask you call  avoids traveling to the core north in mortal fear of his fellow fulani bandit terrorists…</td>\n",
              "      <td>2</td>\n",
              "    </tr>\n",
              "    <tr>\n",
              "      <th>109893</th>\n",
              "      <td>2020-11-03</td>\n",
              "      <td>covid covid mexico</td>\n",
              "      <td>2</td>\n",
              "    </tr>\n",
              "  </tbody>\n",
              "</table>\n",
              "</div>"
            ],
            "text/plain": [
              "              date  ... label\n",
              "35998   2020-10-27  ...     2\n",
              "34977   2020-10-27  ...     2\n",
              "50947   2020-10-28  ...     2\n",
              "109893  2020-11-03  ...     2\n",
              "\n",
              "[4 rows x 3 columns]"
            ]
          },
          "metadata": {
            "tags": []
          },
          "execution_count": 8
        }
      ]
    },
    {
      "cell_type": "code",
      "metadata": {
        "colab": {
          "base_uri": "https://localhost:8080/",
          "height": 173
        },
        "id": "kgftqThH2fEZ",
        "outputId": "88eb1e08-d64b-4020-bd7c-1a07bef9b9e4"
      },
      "source": [
        "fear = tweet_sent[tweet_sent.label == 3]\n",
        "fear.sample(4)"
      ],
      "execution_count": null,
      "outputs": [
        {
          "output_type": "execute_result",
          "data": {
            "text/html": [
              "<div>\n",
              "<style scoped>\n",
              "    .dataframe tbody tr th:only-of-type {\n",
              "        vertical-align: middle;\n",
              "    }\n",
              "\n",
              "    .dataframe tbody tr th {\n",
              "        vertical-align: top;\n",
              "    }\n",
              "\n",
              "    .dataframe thead th {\n",
              "        text-align: right;\n",
              "    }\n",
              "</style>\n",
              "<table border=\"1\" class=\"dataframe\">\n",
              "  <thead>\n",
              "    <tr style=\"text-align: right;\">\n",
              "      <th></th>\n",
              "      <th>date</th>\n",
              "      <th>text</th>\n",
              "      <th>label</th>\n",
              "    </tr>\n",
              "  </thead>\n",
              "  <tbody>\n",
              "    <tr>\n",
              "      <th>4565</th>\n",
              "      <td>2020-10-21</td>\n",
              "      <td>rt           mask   safety    coronavirusoutbreak</td>\n",
              "      <td>3</td>\n",
              "    </tr>\n",
              "    <tr>\n",
              "      <th>109550</th>\n",
              "      <td>2020-11-03</td>\n",
              "      <td>medicine nov by  coronavirus covid pandemic argentina update</td>\n",
              "      <td>3</td>\n",
              "    </tr>\n",
              "    <tr>\n",
              "      <th>89297</th>\n",
              "      <td>2020-11-01</td>\n",
              "      <td>prevent flu soap away germs   from  washyourhands</td>\n",
              "      <td>3</td>\n",
              "    </tr>\n",
              "    <tr>\n",
              "      <th>11207</th>\n",
              "      <td>2020-10-23</td>\n",
              "      <td>coronavirus  contagi e  decessi</td>\n",
              "      <td>3</td>\n",
              "    </tr>\n",
              "  </tbody>\n",
              "</table>\n",
              "</div>"
            ],
            "text/plain": [
              "              date  ... label\n",
              "4565    2020-10-21  ...     3\n",
              "109550  2020-11-03  ...     3\n",
              "89297   2020-11-01  ...     3\n",
              "11207   2020-10-23  ...     3\n",
              "\n",
              "[4 rows x 3 columns]"
            ]
          },
          "metadata": {
            "tags": []
          },
          "execution_count": 9
        }
      ]
    },
    {
      "cell_type": "code",
      "metadata": {
        "colab": {
          "base_uri": "https://localhost:8080/",
          "height": 173
        },
        "id": "mRu-gDWk4Ra1",
        "outputId": "13cba0bf-7c94-4253-fa7a-a9ea02edd411"
      },
      "source": [
        "love = tweet_sent[tweet_sent.label == 4]\n",
        "love.sample(4)"
      ],
      "execution_count": null,
      "outputs": [
        {
          "output_type": "execute_result",
          "data": {
            "text/html": [
              "<div>\n",
              "<style scoped>\n",
              "    .dataframe tbody tr th:only-of-type {\n",
              "        vertical-align: middle;\n",
              "    }\n",
              "\n",
              "    .dataframe tbody tr th {\n",
              "        vertical-align: top;\n",
              "    }\n",
              "\n",
              "    .dataframe thead th {\n",
              "        text-align: right;\n",
              "    }\n",
              "</style>\n",
              "<table border=\"1\" class=\"dataframe\">\n",
              "  <thead>\n",
              "    <tr style=\"text-align: right;\">\n",
              "      <th></th>\n",
              "      <th>date</th>\n",
              "      <th>text</th>\n",
              "      <th>label</th>\n",
              "    </tr>\n",
              "  </thead>\n",
              "  <tbody>\n",
              "    <tr>\n",
              "      <th>129451</th>\n",
              "      <td>2020-11-09</td>\n",
              "      <td>make happiness a priority and be gentle with your self in the process  have a good day and goodmorningeveryone stayhome staysafe washyourhands goodday  stayblessed</td>\n",
              "      <td>4</td>\n",
              "    </tr>\n",
              "    <tr>\n",
              "      <th>94871</th>\n",
              "      <td>2020-11-02</td>\n",
              "      <td>extra virgin olive oil soap with vitamin e very gentle  san francisco  extravirginoliveoil oliveoil olive olivesoap naturalsoap gentleskincare bathandbeauty washyourhands bodycare handmadesoap</td>\n",
              "      <td>4</td>\n",
              "    </tr>\n",
              "    <tr>\n",
              "      <th>61435</th>\n",
              "      <td>2020-10-28</td>\n",
              "      <td>precisely covid was the first real issue that he couldn’t tweet gaslight or distract away the pandemic exposed him for what he’s always been a narcissistic amoral ignoramus</td>\n",
              "      <td>4</td>\n",
              "    </tr>\n",
              "    <tr>\n",
              "      <th>125032</th>\n",
              "      <td>2020-11-08</td>\n",
              "      <td>black labradorretriever puppy facemask with pattern art printed on the front washable in hot water and reusable double layered mask  made in usa</td>\n",
              "      <td>4</td>\n",
              "    </tr>\n",
              "  </tbody>\n",
              "</table>\n",
              "</div>"
            ],
            "text/plain": [
              "              date  ... label\n",
              "129451  2020-11-09  ...     4\n",
              "94871   2020-11-02  ...     4\n",
              "61435   2020-10-28  ...     4\n",
              "125032  2020-11-08  ...     4\n",
              "\n",
              "[4 rows x 3 columns]"
            ]
          },
          "metadata": {
            "tags": []
          },
          "execution_count": 10
        }
      ]
    },
    {
      "cell_type": "code",
      "metadata": {
        "colab": {
          "base_uri": "https://localhost:8080/",
          "height": 241
        },
        "id": "I07yxNbm4Rdg",
        "outputId": "b23ad814-fea1-4204-915b-c83462f3ceab"
      },
      "source": [
        "surprise = tweet_sent[tweet_sent.label == 5]\n",
        "surprise.sample(4)"
      ],
      "execution_count": null,
      "outputs": [
        {
          "output_type": "execute_result",
          "data": {
            "text/html": [
              "<div>\n",
              "<style scoped>\n",
              "    .dataframe tbody tr th:only-of-type {\n",
              "        vertical-align: middle;\n",
              "    }\n",
              "\n",
              "    .dataframe tbody tr th {\n",
              "        vertical-align: top;\n",
              "    }\n",
              "\n",
              "    .dataframe thead th {\n",
              "        text-align: right;\n",
              "    }\n",
              "</style>\n",
              "<table border=\"1\" class=\"dataframe\">\n",
              "  <thead>\n",
              "    <tr style=\"text-align: right;\">\n",
              "      <th></th>\n",
              "      <th>date</th>\n",
              "      <th>text</th>\n",
              "      <th>label</th>\n",
              "    </tr>\n",
              "  </thead>\n",
              "  <tbody>\n",
              "    <tr>\n",
              "      <th>136854</th>\n",
              "      <td>2020-11-10</td>\n",
              "      <td>rt  very interesting paper in  on identifying covid transmission via mobile phone data from  million people stud…</td>\n",
              "      <td>5</td>\n",
              "    </tr>\n",
              "    <tr>\n",
              "      <th>143898</th>\n",
              "      <td>2020-11-10</td>\n",
              "      <td>rt  we launched tonight raising almost £ for  amazing organisations future proofing our youth from the impact of c…</td>\n",
              "      <td>5</td>\n",
              "    </tr>\n",
              "    <tr>\n",
              "      <th>14295</th>\n",
              "      <td>2020-10-25</td>\n",
              "      <td>rt  i created few seconds horror  chemnitz chemnitz corona coronavirusde covid sachsen</td>\n",
              "      <td>5</td>\n",
              "    </tr>\n",
              "    <tr>\n",
              "      <th>1472</th>\n",
              "      <td>2020-10-19</td>\n",
              "      <td>the american people on both sides needed to know the truth months ago i would not be surprised if the whole coronavirus  began as a political act of murder to get to trump supporters interestingly it appears the worse of the deaths are the democratic voters</td>\n",
              "      <td>5</td>\n",
              "    </tr>\n",
              "  </tbody>\n",
              "</table>\n",
              "</div>"
            ],
            "text/plain": [
              "              date  ... label\n",
              "136854  2020-11-10  ...     5\n",
              "143898  2020-11-10  ...     5\n",
              "14295   2020-10-25  ...     5\n",
              "1472    2020-10-19  ...     5\n",
              "\n",
              "[4 rows x 3 columns]"
            ]
          },
          "metadata": {
            "tags": []
          },
          "execution_count": 11
        }
      ]
    },
    {
      "cell_type": "code",
      "metadata": {
        "id": "w54JkP5C4RgZ"
      },
      "source": [
        "counts = tweet_sent.groupby(['date', 'label']).count()"
      ],
      "execution_count": null,
      "outputs": []
    },
    {
      "cell_type": "code",
      "metadata": {
        "id": "KBrKtmJ74Rl-"
      },
      "source": [
        "# Get % of each emotion tweets by day\n",
        "\n",
        "emo_pcts = counts.groupby(level=0).apply(lambda x: 100 * x / float(x.sum()))"
      ],
      "execution_count": null,
      "outputs": []
    },
    {
      "cell_type": "code",
      "metadata": {
        "colab": {
          "base_uri": "https://localhost:8080/",
          "height": 450
        },
        "id": "9dlVF1bd2fGk",
        "outputId": "a34b8374-61c4-4748-f464-e60902863643"
      },
      "source": [
        "emo_pcts"
      ],
      "execution_count": null,
      "outputs": [
        {
          "output_type": "execute_result",
          "data": {
            "text/html": [
              "<div>\n",
              "<style scoped>\n",
              "    .dataframe tbody tr th:only-of-type {\n",
              "        vertical-align: middle;\n",
              "    }\n",
              "\n",
              "    .dataframe tbody tr th {\n",
              "        vertical-align: top;\n",
              "    }\n",
              "\n",
              "    .dataframe thead th {\n",
              "        text-align: right;\n",
              "    }\n",
              "</style>\n",
              "<table border=\"1\" class=\"dataframe\">\n",
              "  <thead>\n",
              "    <tr style=\"text-align: right;\">\n",
              "      <th></th>\n",
              "      <th></th>\n",
              "      <th>text</th>\n",
              "    </tr>\n",
              "    <tr>\n",
              "      <th>date</th>\n",
              "      <th>label</th>\n",
              "      <th></th>\n",
              "    </tr>\n",
              "  </thead>\n",
              "  <tbody>\n",
              "    <tr>\n",
              "      <th rowspan=\"4\" valign=\"top\">2020-10-14</th>\n",
              "      <th>0</th>\n",
              "      <td>27.480916</td>\n",
              "    </tr>\n",
              "    <tr>\n",
              "      <th>1</th>\n",
              "      <td>3.053435</td>\n",
              "    </tr>\n",
              "    <tr>\n",
              "      <th>2</th>\n",
              "      <td>32.824427</td>\n",
              "    </tr>\n",
              "    <tr>\n",
              "      <th>3</th>\n",
              "      <td>36.641221</td>\n",
              "    </tr>\n",
              "    <tr>\n",
              "      <th>2020-10-15</th>\n",
              "      <th>0</th>\n",
              "      <td>21.461187</td>\n",
              "    </tr>\n",
              "    <tr>\n",
              "      <th>...</th>\n",
              "      <th>...</th>\n",
              "      <td>...</td>\n",
              "    </tr>\n",
              "    <tr>\n",
              "      <th rowspan=\"5\" valign=\"top\">2020-11-10</th>\n",
              "      <th>1</th>\n",
              "      <td>3.319428</td>\n",
              "    </tr>\n",
              "    <tr>\n",
              "      <th>2</th>\n",
              "      <td>49.400905</td>\n",
              "    </tr>\n",
              "    <tr>\n",
              "      <th>3</th>\n",
              "      <td>8.209816</td>\n",
              "    </tr>\n",
              "    <tr>\n",
              "      <th>4</th>\n",
              "      <td>0.213011</td>\n",
              "    </tr>\n",
              "    <tr>\n",
              "      <th>5</th>\n",
              "      <td>0.532529</td>\n",
              "    </tr>\n",
              "  </tbody>\n",
              "</table>\n",
              "<p>155 rows × 1 columns</p>\n",
              "</div>"
            ],
            "text/plain": [
              "                       text\n",
              "date       label           \n",
              "2020-10-14 0      27.480916\n",
              "           1       3.053435\n",
              "           2      32.824427\n",
              "           3      36.641221\n",
              "2020-10-15 0      21.461187\n",
              "...                     ...\n",
              "2020-11-10 1       3.319428\n",
              "           2      49.400905\n",
              "           3       8.209816\n",
              "           4       0.213011\n",
              "           5       0.532529\n",
              "\n",
              "[155 rows x 1 columns]"
            ]
          },
          "metadata": {
            "tags": []
          },
          "execution_count": 14
        }
      ]
    },
    {
      "cell_type": "code",
      "metadata": {
        "colab": {
          "base_uri": "https://localhost:8080/",
          "height": 235
        },
        "id": "cF7fQr889DCf",
        "outputId": "1a453514-de02-408b-9ae2-8f41482bc4f6"
      },
      "source": [
        "# Reshape into a graphable form\n",
        "\n",
        "emos = emo_pcts.unstack().fillna(0)\n",
        "emos.columns = emos.columns.droplevel()\n",
        "emos.columns = ['joy', 'sadness', 'anger', 'fear', 'love', 'surprise']\n",
        "emos.head()"
      ],
      "execution_count": null,
      "outputs": [
        {
          "output_type": "execute_result",
          "data": {
            "text/html": [
              "<div>\n",
              "<style scoped>\n",
              "    .dataframe tbody tr th:only-of-type {\n",
              "        vertical-align: middle;\n",
              "    }\n",
              "\n",
              "    .dataframe tbody tr th {\n",
              "        vertical-align: top;\n",
              "    }\n",
              "\n",
              "    .dataframe thead th {\n",
              "        text-align: right;\n",
              "    }\n",
              "</style>\n",
              "<table border=\"1\" class=\"dataframe\">\n",
              "  <thead>\n",
              "    <tr style=\"text-align: right;\">\n",
              "      <th></th>\n",
              "      <th>joy</th>\n",
              "      <th>sadness</th>\n",
              "      <th>anger</th>\n",
              "      <th>fear</th>\n",
              "      <th>love</th>\n",
              "      <th>surprise</th>\n",
              "    </tr>\n",
              "    <tr>\n",
              "      <th>date</th>\n",
              "      <th></th>\n",
              "      <th></th>\n",
              "      <th></th>\n",
              "      <th></th>\n",
              "      <th></th>\n",
              "      <th></th>\n",
              "    </tr>\n",
              "  </thead>\n",
              "  <tbody>\n",
              "    <tr>\n",
              "      <th>2020-10-14</th>\n",
              "      <td>27.480916</td>\n",
              "      <td>3.053435</td>\n",
              "      <td>32.824427</td>\n",
              "      <td>36.641221</td>\n",
              "      <td>0.0</td>\n",
              "      <td>0.000000</td>\n",
              "    </tr>\n",
              "    <tr>\n",
              "      <th>2020-10-15</th>\n",
              "      <td>21.461187</td>\n",
              "      <td>4.566210</td>\n",
              "      <td>39.269406</td>\n",
              "      <td>34.246575</td>\n",
              "      <td>0.0</td>\n",
              "      <td>0.456621</td>\n",
              "    </tr>\n",
              "    <tr>\n",
              "      <th>2020-10-16</th>\n",
              "      <td>22.839506</td>\n",
              "      <td>8.024691</td>\n",
              "      <td>27.160494</td>\n",
              "      <td>41.358025</td>\n",
              "      <td>0.0</td>\n",
              "      <td>0.617284</td>\n",
              "    </tr>\n",
              "    <tr>\n",
              "      <th>2020-10-17</th>\n",
              "      <td>24.015748</td>\n",
              "      <td>3.937008</td>\n",
              "      <td>48.425197</td>\n",
              "      <td>23.622047</td>\n",
              "      <td>0.0</td>\n",
              "      <td>0.000000</td>\n",
              "    </tr>\n",
              "    <tr>\n",
              "      <th>2020-10-18</th>\n",
              "      <td>28.853755</td>\n",
              "      <td>5.138340</td>\n",
              "      <td>35.573123</td>\n",
              "      <td>30.434783</td>\n",
              "      <td>0.0</td>\n",
              "      <td>0.000000</td>\n",
              "    </tr>\n",
              "  </tbody>\n",
              "</table>\n",
              "</div>"
            ],
            "text/plain": [
              "                  joy   sadness      anger       fear  love  surprise\n",
              "date                                                                 \n",
              "2020-10-14  27.480916  3.053435  32.824427  36.641221   0.0  0.000000\n",
              "2020-10-15  21.461187  4.566210  39.269406  34.246575   0.0  0.456621\n",
              "2020-10-16  22.839506  8.024691  27.160494  41.358025   0.0  0.617284\n",
              "2020-10-17  24.015748  3.937008  48.425197  23.622047   0.0  0.000000\n",
              "2020-10-18  28.853755  5.138340  35.573123  30.434783   0.0  0.000000"
            ]
          },
          "metadata": {
            "tags": []
          },
          "execution_count": 15
        }
      ]
    },
    {
      "cell_type": "code",
      "metadata": {
        "colab": {
          "base_uri": "https://localhost:8080/",
          "height": 475
        },
        "id": "5MB2BZ_B9WKp",
        "outputId": "5dc98199-c2f9-4ab5-b4ba-437f7bf2b255"
      },
      "source": [
        "# Would be cool to see how this changes around vaccine news\n",
        "\n",
        "emos.plot(title = 'Evolution of Emotion', xlabel = 'Date', ylabel = 'Percentage of Total Emotion', figsize = (10, 7)).legend(loc='center left', bbox_to_anchor=(1.0, 0.5))"
      ],
      "execution_count": null,
      "outputs": [
        {
          "output_type": "execute_result",
          "data": {
            "text/plain": [
              "<matplotlib.legend.Legend at 0x7fc3831ecac8>"
            ]
          },
          "metadata": {
            "tags": []
          },
          "execution_count": 25
        },
        {
          "output_type": "display_data",
          "data": {
            "image/png": "[encoded data removed]",
            "text/plain": [
              "<Figure size 720x504 with 1 Axes>"
            ]
          },
          "metadata": {
            "tags": [],
            "needs_background": "light"
          }
        }
      ]
    },
    {
      "cell_type": "code",
      "metadata": {
        "id": "zF14IOZS9o3s"
      },
      "source": [
        ""
      ],
      "execution_count": null,
      "outputs": []
    }
  ]
}